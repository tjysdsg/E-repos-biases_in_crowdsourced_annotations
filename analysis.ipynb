{
 "cells": [
  {
   "cell_type": "markdown",
   "source": [
    "# Read data"
   ],
   "metadata": {
    "collapsed": false
   }
  },
  {
   "cell_type": "code",
   "execution_count": 1,
   "outputs": [],
   "source": [
    "import json\n",
    "from snli import UnigramSNLIData\n",
    "from config import IDENTITY_LABEL_EXT_FILE, PREMISE_KEY, HYPOTHESIS_KEY\n",
    "from pmi import PMI"
   ],
   "metadata": {
    "collapsed": false
   }
  },
  {
   "cell_type": "code",
   "execution_count": 2,
   "outputs": [],
   "source": [
    "data = UnigramSNLIData()\n",
    "premise_stats = data.collect_stats(key=PREMISE_KEY, bigram=True)\n",
    "hyp_stats = data.collect_stats(key=HYPOTHESIS_KEY, bigram=True)"
   ],
   "metadata": {
    "collapsed": false
   }
  },
  {
   "cell_type": "markdown",
   "source": [
    "# Read identity labels"
   ],
   "metadata": {
    "collapsed": false
   }
  },
  {
   "cell_type": "code",
   "execution_count": 28,
   "outputs": [],
   "source": [
    "identity_labels = []\n",
    "with open(IDENTITY_LABEL_EXT_FILE, encoding='utf-8') as f:\n",
    "    for line in f:\n",
    "        line = line.rstrip('\\n').strip()\n",
    "        if len(line) > 0:\n",
    "            identity_labels.append(line)"
   ],
   "metadata": {
    "collapsed": false
   }
  },
  {
   "cell_type": "markdown",
   "source": [
    "# Premise"
   ],
   "metadata": {
    "collapsed": false
   }
  },
  {
   "cell_type": "code",
   "execution_count": 29,
   "metadata": {
    "scrolled": true
   },
   "outputs": [
    {
     "data": {
      "text/plain": "{'woman': ['mascara', 'lipstick', 'incense', 'clothesline', 'headscarf'],\n 'women': ['saris', 'headscarves', 'bikinis', 'headdresses', 'coverings'],\n 'man': ['girlfriend', 'shaves', 'mustached', 'breakdances', 'rearing'],\n 'men': ['turbans', 'tuxedos', 'ladders', 'jumpsuits', 'wetsuits'],\n 'girl': ['cereal', 'pigtails', 'fairy', 'stitch', 'kitty'],\n 'girls': ['twin', 'dresses', 'cheerleading', 'leotards', 'barbie'],\n 'boy': ['scouts', 'scout', 'slip', 'over-sized', 'pumpkins'],\n 'boys': ['comic', 'tongues', 'unicef', 'twin', 'legos'],\n 'female': ['vocalist', 'companion', 'stroke', 'dentist', 'athlete'],\n 'male': ['bassist', 'vocalist', 'caucasian', 'entertainer', 'grin'],\n 'mother': ['daughter', 'sons', 'totter', 'teeter', 'son'],\n 'father': ['son', 'sons', 'grandfather', 'daughter', 'presumably'],\n 'sister': ['brother', 'burying', 'crayon', 'stood', 'quietly'],\n 'brother': ['sister', 'painters', 'unicef', 'stood', 'quietly'],\n 'daughter': ['mother', 'father', 'puma', 'poncho', 'mom'],\n 'son': ['father', 'dad', 'mother', 'mom', 'burying'],\n 'feminine': [],\n 'masculine': [],\n 'androgynous': [],\n 'black': ['poodle', 'labrador', 'leggings', 'spots', 'espresso'],\n 'asian': ['southeast', 'descent', 'east', 'language', 'likely'],\n 'hispanic': ['jetty', 'article', 'basketballs', 'wok', 'descent'],\n 'white': ['dots', 'footballer', 'spots', 'markings', 'dribbling'],\n 'african': ['americans', 'tribe', 'american', 'huts', 'villagers'],\n 'american': ['footballer', 'african', 'native', 'patriotic', 'south'],\n 'latino': ['coolers', 'dart', 'crutches', 'types', 'link'],\n 'latina': [],\n 'caucasian': ['lockers', 'handsome', 'contemplates', 'explains', 'pages'],\n 'africans': ['tribe', 'hearts', 'tap', 'huts', 'organized'],\n 'middle-eastern': ['trinkets',\n  'brown-skinned',\n  'attendant',\n  'cigarettes',\n  'aged'],\n 'australian': [],\n 'asians': ['napkin', 'southeast', 'personal', 'receive', 'occupied'],\n 'european': ['faded', 'satchel', 'brightly-colored', 'classical', 'historic'],\n 'europeans': [],\n 'chinese': ['lanterns', 'characters', 'dragon', 'year', 'gazebo'],\n 'indian': ['sari', 'headdresses', 'saris', 'ritual', 'chief'],\n 'indonesian': [],\n 'brazilian': [],\n 'pakistani': [],\n 'russian': [],\n 'nigerian': [],\n 'japanese': ['kimonos', 'actors', 'characters', 'drumming', 'shrine'],\n 'mexican': ['hell', 'sombrero', 'remove', 'peddling', 'machete'],\n 'filipino': [],\n 'vietnamese': [],\n 'german': ['shepherd', 'breed', 'labrador', 'turf', 'trainer'],\n 'egyptian': [],\n 'turkish': [],\n 'thai': [],\n 'french': ['horn', 'chopsticks', 'trumpets', 'cheered', 'exterior'],\n 'british': ['airways', 'royal', 'airline', 'medals', 'pilot'],\n 'italian': ['taste', 'purchasing', 'priest', 'sausages', 'usa'],\n 'korean': ['veterans', 'fencers', 'historical', 'symbols', 'language'],\n 'canadian': ['pride', 'goose', 'side-by-side', 'ref', 'fourth'],\n 'spanish': ['quartet', 'advertises', 'mirrored', 'ny', 'popcorn'],\n 'dutch': [],\n 'swiss': [],\n 'taiwanese': [],\n 'swedish': [],\n 'polish': ['nail', 'fingernails', 'nails', 'warmers', 'loose'],\n 'israeli': ['desolate', 'nuts', 'pirates', 'cigarettes', 'u.s.'],\n 'irish': ['pub', 'flashlight', 'solo', 'retrieving', 'strolls'],\n 'greek': [],\n 'ukrainian': [],\n 'jamaican': [],\n 'mongolian': [],\n 'armenian': [],\n 'disability': [],\n 'disabled': [],\n 'handicap': [],\n 'handicapped': ['wheelchairs',\n  'badminton',\n  'athletes',\n  'tournament',\n  'motorized'],\n 'mentally': [],\n 'lesbian': [],\n 'lesbians': [],\n 'gay': ['pride', 'marriage', 'attendees', 'protester', 'participants'],\n 'straight': ['razor', 'ahead', 'stony', 'barricades', 'crack'],\n 'muslim': ['sands', 'creation', 'hijab', 'islamic', 'loud'],\n 'christian': ['hell', 'congregation', 'procession', 'ironing', 'jesus'],\n 'jewish': ['guest', 'seaside', 'vacation', 'armed', 'shelter'],\n 'buddhist': ['monk', 'temple', 'robed', 'peacock', 'joke'],\n 'hindu': [],\n 'muslims': [],\n 'christians': [],\n 'jews': [],\n 'buddhists': [],\n 'old': ['fashioned', 'years', 'year', 'fashion', 'approximately'],\n 'elderly': ['canes', 'europe', 'troops', 'rays', 'cane'],\n 'retired': [],\n 'teenage': ['joyfully', 'trendy', 'grip', 'pajama', 'locker'],\n 'young': ['recreational', 'crocs', 'cereal', 'cleats', 'basketballs'],\n 'senior': ['citizen', 'citizens', 'looms', 'frolics', 'curtains'],\n 'seniors': ['visit', 'tour', 'groups', 'enjoy', 'clear'],\n 'teenager': ['instead', 'bowed', 'potential', 'brand', 'know'],\n 'teenagers': ['pasture', 'turf', 'peeling', 'skips', 'nintendo'],\n 'old men': ['stock', 'mcdonalds', 'ritual', 'ends', 'involved'],\n 'old women': ['cases', 'walker', 'squeezing', 'collection', 'illuminated'],\n 'black people': ['couches', 'boston', 'dilapidated', 'fountains', 'fill'],\n 'black male': ['puma', 'grinder', 'waffle', 'blank', 'wrong'],\n 'asian teenagers': []}"
     },
     "execution_count": 29,
     "metadata": {},
     "output_type": "execute_result"
    }
   ],
   "source": [
    "premise_pmi = PMI(premise_stats)\n",
    "premise_pmi_stats = premise_pmi(identity_labels, top_k=5, include_target_bigrams=False)\n",
    "\n",
    "with open('pmi_premise.json', 'w', encoding='utf-8') as f:\n",
    "    json.dump(premise_pmi_stats, f, indent=2)\n",
    "\n",
    "premise_pmi_stats"
   ]
  },
  {
   "cell_type": "code",
   "execution_count": 30,
   "outputs": [
    {
     "data": {
      "text/plain": "{'woman': ['applying mascara',\n  'mascara',\n  'yellow scarf',\n  'skirt stands',\n  'skirt walks'],\n 'women': ['saris', 'head coverings', 'headscarves', 'bikinis', 'headdresses'],\n 'man': ['beard sits',\n  'bicycle near',\n  'suit walking',\n  'gray beard',\n  'girlfriend'],\n 'men': ['turbans',\n  'tuxedos',\n  'black suits',\n  'military uniforms',\n  'boxing match'],\n 'girl': ['dress runs', 'pink bathing', 'cereal', 'pigtails', 'pink headband'],\n 'girls': ['white dresses',\n  'wearing dresses',\n  'parallel bars',\n  'dresses standing',\n  'jump rope'],\n 'boy': ['pumpkin patch', 'scouts', 'scout', 'chocolate ice', 'baseball bat'],\n 'boys': ['flag football', 'comic', 'tongues', 'school age', 'unicef'],\n 'female': ['free throw',\n  'vocalist',\n  'figure skater',\n  'companion',\n  'tennis players'],\n 'male': ['female dancer',\n  'older white',\n  'bassist',\n  'artist painting',\n  'female singer'],\n 'mother': ['young son', 'daughter', 'young daughter', 'sons', 'totter'],\n 'father': ['son', 'sons', 'grandfather', 'young son', 'throwing rocks'],\n 'sister': ['brother', 'burying', 'blue pajamas', 'girls hold', 'dark coat'],\n 'brother': ['sister', 'girl trying', 'painters', 'boy watching', 'unicef'],\n 'daughter': ['mother holds', 'throwing rocks', 'mother', 'father', 'puma'],\n 'son': ['father', 'dad', 'mother', 'train set', 'mom'],\n 'feminine': [],\n 'masculine': [],\n 'androgynous': [],\n 'black': ['rimmed glasses',\n  'white cat',\n  'rope toy',\n  'white spotted',\n  'leather vest'],\n 'asian': ['southeast', 'descent', 'east', 'red scooter', 'food court'],\n 'hispanic': ['woman hanging',\n  'jetty',\n  'grilling meat',\n  'green vegetables',\n  'vests stand'],\n 'white': ['black spots',\n  'american footballer',\n  'brown spots',\n  'polka dots',\n  'water rafting'],\n 'african': ['american men',\n  'american boy',\n  'american woman',\n  'american man',\n  'american child'],\n 'american': ['footballer', 'african', 'young african', 'native', 'patriotic'],\n 'latino': ['coolers', 'birthday party', 'dart', 'couple dancing', 'crutches'],\n 'latina': [],\n 'caucasian': ['pink blouse',\n  'lockers',\n  'cargo shorts',\n  'denim jeans',\n  'handsome'],\n 'africans': ['green vegetables', 'tribe', 'hearts', 'tap', 'huts'],\n 'middle-eastern': ['trinkets',\n  'brown-skinned',\n  'vendor sells',\n  'adults sit',\n  'selling vegetables'],\n 'australian': [],\n 'asians': ['eating outside',\n  'green vegetables',\n  'vegetable market',\n  'napkin',\n  'food outdoors'],\n 'european': ['faded',\n  'people milling',\n  'stand looking',\n  'purse walking',\n  'jacket jumping'],\n 'europeans': [],\n 'chinese': ['lanterns', 'characters', 'dragon', 'year', 'gazebo'],\n 'indian': ['sari', 'headdresses', 'saris', 'ritual', 'chief'],\n 'indonesian': [],\n 'brazilian': [],\n 'pakistani': [],\n 'russian': [],\n 'nigerian': [],\n 'japanese': ['kimonos',\n  'wearing traditional',\n  'actors',\n  'clothing walk',\n  'green car'],\n 'mexican': ['crowd wearing',\n  'hell',\n  'seated people',\n  'fresh fruit',\n  'sombrero'],\n 'filipino': [],\n 'vietnamese': [],\n 'german': ['shepherd', 'shepherd dog', 'breed', 'labrador', 'turf'],\n 'egyptian': [],\n 'turkish': [],\n 'thai': [],\n 'french': ['horn',\n  'chopsticks',\n  'trumpets',\n  'trumpet player',\n  'skateboard ramp'],\n 'british': ['airways', 'royal', 'vests working', 'large hat', 'machine gun'],\n 'italian': ['london olympics',\n  'wait outside',\n  'taste',\n  'purchasing',\n  'priest'],\n 'korean': ['ice skater',\n  'veterans',\n  'small town',\n  'american male',\n  'fencers'],\n 'canadian': ['number 12', 'pride', 'goose', 'side-by-side', 'men hold'],\n 'spanish': ['female performer',\n  'female student',\n  'yellow sign',\n  'quartet',\n  'couple kiss'],\n 'dutch': [],\n 'swiss': [],\n 'taiwanese': [],\n 'swedish': [],\n 'polish': ['nail', 'fingernails', 'nails', 'warmers', 'loose'],\n 'israeli': ['desolate', 'nuts', 'pirates', 'cigarettes', 'busy intersection'],\n 'irish': ['pub', 'flashlight', 'wait outside', 'solo', 'retrieving'],\n 'greek': [],\n 'ukrainian': [],\n 'jamaican': [],\n 'mongolian': [],\n 'armenian': [],\n 'disability': [],\n 'disabled': [],\n 'handicap': [],\n 'handicapped': ['american boy',\n  'wheelchairs',\n  'badminton',\n  'blue building',\n  'athletes'],\n 'mentally': [],\n 'lesbian': [],\n 'lesbians': [],\n 'gay': ['pride', 'marriage', 'topless woman', '2 guys', 'attendees'],\n 'straight': ['razor',\n  'man shaving',\n  'ahead',\n  'adults wearing',\n  'subway entrance'],\n 'muslim': ['sands', 'creation', 'open doorway', 'hijab', 'islamic'],\n 'christian': ['hell', 'yellow cap', 'congregation', 'procession', 'ironing'],\n 'jewish': ['guest',\n  'seaside',\n  'family having',\n  'shirt getting',\n  'people waving'],\n 'buddhist': ['monk', 'temple', 'robed', 'peacock', 'joke'],\n 'hindu': [],\n 'muslims': [],\n 'christians': [],\n 'jews': [],\n 'buddhists': [],\n 'old': ['fashioned', 'years', 'year', 'fashion', 'approximately'],\n 'elderly': ['canes',\n  'playing dominoes',\n  'europe',\n  'gentleman sitting',\n  'troops'],\n 'retired': [],\n 'teenage': ['uniform playing',\n  'boys walking',\n  'girls dance',\n  'small body',\n  'girl enjoying'],\n 'young': ['boy eats',\n  'roller hockey',\n  'girl enjoys',\n  'boys sitting',\n  'boy sliding'],\n 'senior': ['citizen',\n  'citizens',\n  'looms',\n  'beautiful scenery',\n  'shorts poses'],\n 'seniors': ['visit', 'clear day', 'tour', 'groups', 'enjoy'],\n 'teenager': ['striped shorts',\n  'chopping wood',\n  'covered street',\n  'ornate building',\n  'instead'],\n 'teenagers': ['pasture', 'turf', 'peeling', 'skips', 'outside walking'],\n 'old men': ['park benches',\n  'stock',\n  'rock concert',\n  'swim caps',\n  'concrete bench'],\n 'old women': ['selling vegetables',\n  'wearing hat',\n  'cases',\n  'walker',\n  'fresh produce'],\n 'black people': ['scarf walks',\n  'couches',\n  'looking forward',\n  'boston',\n  'dilapidated'],\n 'black male': ['puma', 'free throw', 'grinder', 'shirt hanging', 'waffle'],\n 'asian teenagers': []}"
     },
     "execution_count": 30,
     "metadata": {},
     "output_type": "execute_result"
    }
   ],
   "source": [
    "premise_pmi = PMI(premise_stats)\n",
    "premise_pmi_stats = premise_pmi(identity_labels, top_k=5, include_target_bigrams=True)\n",
    "\n",
    "with open('pmi_premise_bigram.json', 'w', encoding='utf-8') as f:\n",
    "    json.dump(premise_pmi_stats, f, indent=2)\n",
    "\n",
    "premise_pmi_stats"
   ],
   "metadata": {
    "collapsed": false
   }
  },
  {
   "cell_type": "markdown",
   "source": [
    "# Hyp"
   ],
   "metadata": {
    "collapsed": false
   }
  },
  {
   "cell_type": "code",
   "execution_count": 31,
   "metadata": {},
   "outputs": [
    {
     "data": {
      "text/plain": "{'woman': ['weaves', 'chevrolet', 'veil', 'bra', 'applies'],\n 'women': ['burkas', 'husbands', 'saris', 'kimonos', 'bikinis'],\n 'man': ['beared', 'refueling', 'mustache', 'shaven', 'afro'],\n 'men': ['turbans', 'rickshaws', 'wives', 'cigars', 'tuxedos'],\n 'girl': ['pigtails', 'diary', 'biscuits', 'totter', 'teeter'],\n 'girls': ['slumber', 'lockers', 'cheerleading', 'sleepover', 'barbies'],\n 'boy': ['hacky', 'scouts', 'scout', 'playroom', 'see-saw'],\n 'boys': ['marbles', 'sergeant', 'missionary', 'twin', 'frat'],\n 'female': ['contortionist', 'consisting', 'tanned', 'slender', 'barista'],\n 'male': ['entry', 'dumps', 'youthful', 'vocalist', 'invention'],\n 'mother': ['bonding', 'aunt', 'daughter', 'comforted', 'consoling'],\n 'father': ['son', 'picnicking', 'wetsuits', 'sons', 'daughter'],\n 'sister': ['brother', 'piggyback', 'mesmerized', 'laws', 'vacuums'],\n 'brother': ['sister', 'teases', 'eyed', 'dislikes', 'frat'],\n 'daughter': ['symbols', 'daddy', 'hailing', 'ice-cream', 'father'],\n 'son': ['father', 'bonding', 'dad', 'wetsuits', 'tickling'],\n 'feminine': [],\n 'masculine': [],\n 'black': ['smock', 'belts', 'saucer', 'labs', 'adidas'],\n 'asian': ['southeast', 'descent', 'symbols', 'long-sleeved', 'heritage'],\n 'hispanic': ['organize', 'backward', 'wok', 'chooses', 'neatly'],\n 'white': ['rodent', 'vertically', 'beak', 'long-sleeve', 'padded'],\n 'african': ['headstand', 'american', 'safari', 'descent', 'accompanied'],\n 'american': ['idol', 'native', 'african', 'latin', 'drapes'],\n 'latino': ['sowing', 'prepping', 'communicate', 'process', 'superhero'],\n 'latina': [],\n 'caucasian': ['slender', 'fleece', 'non', 'zip', 'festive'],\n 'africans': ['armed', 'source', 'die', 'cloths', 'tribal'],\n 'middle-eastern': [],\n 'australian': ['outback', 'agility', 'shepherd', 'national', 'competes'],\n 'australians': [],\n 'asians': ['tradition', 'explain', 'styles', 'devoid', 'receive'],\n 'european': ['countries', 'bustling', 'childhood', 'rickshaw', 'descent'],\n 'europeans': [],\n 'chinese': ['lanterns', 'squash', 'characters', 'takeout', 'gazebo'],\n 'indian': ['southeast', 'style', 'boot', 'muffins', 'descent'],\n 'indonesian': [],\n 'brazilian': ['mime', 'author', 'entertainer', '100', 'entertaining'],\n 'pakistani': [],\n 'russian': ['prime', 'goatee', 'based', 'tundra', 'secretly'],\n 'nigerian': [],\n 'japanese': ['kimonos', 'anime', 'positions', 'eggplant', 'schoolgirls'],\n 'mexican': ['convicts', 'villagers', 'ton', 'mariachi', '21'],\n 'filipino': [],\n 'vietnamese': [],\n 'german': ['shepherd', 'shepard', 'shepherds', 'solider', 'solders'],\n 'egyptian': [],\n 'ethiopian': [],\n 'turkish': [],\n 'thai': ['chi', 'buddhist', 'thailand', 'general', 'temple'],\n 'french': ['fries', 'fry', 'horn', 'refreshing', 'rear'],\n 'british': ['controller', 'delayed', 'marches', 'duty', 'actors'],\n 'italian': ['sketches', 'pepperoni', 'bistro', 'venice', 'rotten'],\n 'korean': ['symbols', 'vets', 'korea', 'walrus', 'vegetarian'],\n 'canadian': ['moose', 'attendance', 'goose', 'border', 'wolves'],\n 'spanish': ['ruin', 'overgrown', 'sari', 'sombreros', 'interacts'],\n 'dutch': [],\n 'swiss': ['alps', 'avalanche', 'wields', 'rescue', 'expensive'],\n 'saudi': [],\n 'argentinian': [],\n 'swedish': ['crosscountry', 'massage', 'medal', 'displayed', 'words'],\n 'belgian': [],\n 'polish': ['nail', 'toenails', 'rag', 'collect', 'posters'],\n 'israeli': ['eastern', 'problems', 'cashier', 'cigarettes', 'counter'],\n 'irish': ['jig', 'cottage', 'flashlight', 'bagpipe', 'vocalist'],\n 'greek': ['organization', 'lettering', 'ancient', 'olive', 'chiseling'],\n 'ukrainian': [],\n 'jamaican': [],\n 'mongolian': ['bbq', 'arrow', 'beneath', 'shines', 'chefs'],\n 'armenian': [],\n 'disability': [],\n 'disabled': ['convicts', 'non', 'nears', 'escorted', 'bottled'],\n 'handicap': [],\n 'handicapped': ['occuring', 'positioned', 'treatment', 'felt', 'install'],\n 'mentally': [],\n 'mental': ['ward', 'escaped', 'sovereign', 'memory', 'services'],\n 'autism': [],\n 'lesbian': ['adopted', 'attracted', 'experience', 'beanie', 'films'],\n 'lesbians': ['deeply', 'greeting', 'hug', 'love', 'kissing'],\n 'gay': ['pride', 'rights', 'marriage', 'experimenting', 'abraham'],\n 'bisexual': [],\n 'pansexual': [],\n 'straight': ['razor', 'tambourine', 'ahead', 'stared', 'lanes'],\n 'muslim': ['pamphlets', 'mosque', 'peddling', 'aloud', 'worship'],\n 'christian': ['strips', 'stretched', 'holidays', 'celebrates', 'accordion'],\n 'jew': [],\n 'jewish': ['glancing', 'hitler', 'armed', 'prays', 'symbol'],\n 'buddhist': ['feather', 'thai', 'temple', 'monks', 'wires'],\n 'hindu': [],\n 'atheist': [],\n 'muslims': ['terrorists', 'christians', 'celebrate', 'opening', 'phones'],\n 'christians': ['muslims', 'gospel', 'impressed', 'pork', 'villagers'],\n 'jews': [],\n 'buddhists': [],\n 'atheists': [],\n 'old': ['fashioned', 'reminisce', '60', 'years', 'year'],\n 'elderly': ['antiques', 'casserole', 'floppy', 'immigration', 'long-sleeved'],\n 'retired': ['accessory', 'clutching', 'weekly', 'counting', 'lottery'],\n 'teenage': ['turtles', 'ninja', 'root', 'lotion', 'googles'],\n 'young': ['sparing', 'lad', 'reddish', 'boy  ', 'bib'],\n 'senior': ['citizen', 'citizens', 'varsity', 'junior', 'fido'],\n 'seniors': ['theft', 'nearest', 'delivers', 'ancient', 'join'],\n 'teenager': ['camouflaged', 'surfed', 'distract', 'stuffing', 'sheer'],\n 'teenagers': ['plying', 'insects', 'congratulate', 'somber', 'reminisce'],\n 'old men': ['reminisce', 'inappropriate', 'raincoats', 'grumpy', 'tavern'],\n 'old women': ['vases', 'earring', 'carring', 'doorstep', 'contents'],\n 'black people': ['corvette', 'rioting', 'felt', 'robbed', 'shades'],\n 'black male': ['notebooks', 'ghetto', 'scraps', 'unfinished', 'blade'],\n 'asian teenagers': ['atm', 'piercings', 'devices', '$', '500']}"
     },
     "execution_count": 31,
     "metadata": {},
     "output_type": "execute_result"
    }
   ],
   "source": [
    "hyp_pmi = PMI(hyp_stats)\n",
    "hyp_pmi_stats = hyp_pmi(identity_labels, top_k=5, include_target_bigrams=False)\n",
    "\n",
    "with open('pmi_hypothesis.json', 'w', encoding='utf-8') as f:\n",
    "    json.dump(hyp_pmi_stats, f, indent=2)\n",
    "\n",
    "hyp_pmi_stats"
   ]
  },
  {
   "cell_type": "code",
   "execution_count": 32,
   "outputs": [
    {
     "data": {
      "text/plain": "{'woman': ['black purse',\n  'chevrolet car',\n  'flower dress',\n  'white gown',\n  'weaves'],\n 'women': ['wearing skirts', 'burkas', 'husbands', 'black dresses', 'saris'],\n 'man': ['clown nose',\n  'glasses looks',\n  'beared',\n  'gray beard',\n  'hawaiian shirt'],\n 'men': ['turbans', 'rickshaws', 'wives', 'yellow vests', 'holding guitars'],\n 'girl': ['pigtails',\n  'baby sister',\n  'pink swimsuit',\n  'little blond',\n  'pink helmet'],\n 'girls': ['play jump',\n  'slumber party',\n  'ballet class',\n  'slumber',\n  'playing house'],\n 'boy': ['toy truck',\n  'action figures',\n  'pirate costume',\n  'pumpkin patch',\n  'hacky sack'],\n 'boys': ['fruit cart', 'black swim', 'comic books', 'marbles', 'sergeant'],\n 'female': ['male dog',\n  'contortionist',\n  'football fan',\n  'consisting',\n  'bicyclist rides'],\n 'male': ['female dog',\n  'tap dancer',\n  'model poses',\n  'gray tank',\n  'female singer'],\n 'mother': ['daughter play', 'bonding', 'aunt', 'son watch', 'daughter walk'],\n 'father': ['son playing', 'son play', 'son walk', 'son', 'young daughter'],\n 'sister': ['brother',\n  'girl hugs',\n  'piggyback ride',\n  'blow bubbles',\n  'piggyback'],\n 'brother': ['sister play',\n  'sister',\n  'girl helps',\n  'little sister',\n  'girl hugs'],\n 'daughter': ['mother helps',\n  'father teaches',\n  'mother takes',\n  'father holds',\n  'father plays'],\n 'son': ['father teaches',\n  'father plays',\n  'father holds',\n  'father watches',\n  'father'],\n 'feminine': [],\n 'masculine': [],\n 'black': ['smock', 'jacket walking', 'belts', 'saucer', 'labs'],\n 'asian': ['southeast', 'descent', 'symbols', 'jacket smiles', 'long-sleeved'],\n 'hispanic': ['organize', 'yellow safety', 'backward', 'male workers', 'wok'],\n 'white': ['water rafting',\n  'player dressed',\n  'striped dress',\n  'khaki pants',\n  'rodent'],\n 'african': ['american male',\n  'american man',\n  'american woman',\n  'american child',\n  'headstand'],\n 'american': ['idol', 'native', 'african', 'latin', 'young african'],\n 'latino': ['sowing',\n  'wall covered',\n  'prepping',\n  'happily wearing',\n  'communicate'],\n 'latina': [],\n 'caucasian': ['slender',\n  'american child',\n  'fleece',\n  'people await',\n  'people including'],\n 'africans': ['shooting guns',\n  'taking shelter',\n  'armed',\n  'source',\n  'getting water'],\n 'middle-eastern': [],\n 'australian': ['outback',\n  'dog competes',\n  'agility',\n  'black clothing',\n  'shepherd'],\n 'australians': [],\n 'asians': ['cafe eating',\n  'native dress',\n  'tradition',\n  'plane flying',\n  'explain'],\n 'european': ['cars parked',\n  'brick street',\n  'aged woman',\n  'white umbrella',\n  'countries'],\n 'europeans': [],\n 'chinese': ['new year', 'lanterns', 'rubber gloves', 'squash', 'characters'],\n 'indian': ['southeast asian',\n  'southeast',\n  'wearing traditional',\n  'works hard',\n  'asian descent'],\n 'indonesian': [],\n 'brazilian': ['mime', 'author', 'entertainer', 'man singing', '100'],\n 'pakistani': [],\n 'russian': ['prime', 'goatee', 'apartment complex', 'based', 'tundra'],\n 'nigerian': [],\n 'japanese': ['kimonos',\n  'anime',\n  'play tug-of-war',\n  'positions',\n  'loved ones'],\n 'mexican': ['man digging',\n  'mariachi band',\n  'guys standing',\n  'sits atop',\n  'convicts'],\n 'filipino': [],\n 'vietnamese': [],\n 'german': ['shepherd', 'shepard', 'shepherds', 'solider', 'solders'],\n 'egyptian': [],\n 'ethiopian': [],\n 'turkish': [],\n 'thai': ['telephone wires', 'chi', 'buddhist', 'thailand', 'general'],\n 'french': ['fries', 'fry', 'horn', 'refreshing', 'college class'],\n 'british': ['children holding',\n  'clothes stand',\n  'new movie',\n  'military man',\n  'road outside'],\n 'italian': ['sketches', 'pepperoni', 'chef makes', 'bistro', 'large meal'],\n 'korean': ['symbols', 'vets', 'korea', 'walrus', 'pink flowers'],\n 'canadian': ['mexican flag', 'moose', 'attendance', 'goose', 'border'],\n 'spanish': ['ruin', 'red bandanna', 'overgrown', 'sari', 'couple watches'],\n 'dutch': [],\n 'swiss': ['alps', 'gather outside', 'avalanche', 'wields', 'rescue'],\n 'saudi': [],\n 'argentinian': [],\n 'swedish': ['crosscountry',\n  'children pose',\n  'dark shirt',\n  'gold medal',\n  'massage'],\n 'belgian': [],\n 'polish': ['nail', 'toenails', 'woman loves', 'rag', 'collect'],\n 'israeli': ['men celebrate',\n  'looking man',\n  'middle eastern',\n  'eastern',\n  'problems'],\n 'irish': ['jig', 'folk song', 'long-haired man', 'cottage', 'female artist'],\n 'greek': ['organization', 'lettering', 'ancient', 'olive', 'chiseling'],\n 'ukrainian': [],\n 'jamaican': [],\n 'mongolian': ['dirt field', 'bbq', 'arrow', 'beneath', 'shines'],\n 'armenian': [],\n 'disability': [],\n 'disabled': ['convicts',\n  'chair holding',\n  'special olympics',\n  'bottled water',\n  'non'],\n 'handicap': [],\n 'handicapped': ['occuring', 'positioned', 'treatment', 'felt', 'install'],\n 'mentally': [],\n 'mental': ['ward', 'escaped', 'heavy coat', 'sovereign', 'memory'],\n 'autism': [],\n 'lesbian': ['biker jumps',\n  'field outside',\n  'adopted',\n  'pet dog',\n  'attracted'],\n 'lesbians': ['deeply', 'greeting', 'rock band', 'hug', 'love'],\n 'gay': ['pride parade', 'pride', 'rights', 'marriage', 'protest outside'],\n 'bisexual': [],\n 'pansexual': [],\n 'straight': ['razor',\n  'african-american man',\n  'tambourine',\n  'ahead',\n  'stared'],\n 'muslim': ['pamphlets',\n  'mosque',\n  'women buying',\n  'family walking',\n  'peddling'],\n 'christian': ['strips',\n  'stretched',\n  'christmas presents',\n  'left hand',\n  'holidays'],\n 'jew': [],\n 'jewish': ['men discussing',\n  'glancing',\n  'man fills',\n  'man dresses',\n  'hitler'],\n 'buddhist': ['telephone wires', 'feather', 'thai', 'temple', 'pose outside'],\n 'hindu': [],\n 'atheist': [],\n 'muslims': ['new restaurant',\n  'terrorists',\n  'christians',\n  'gather near',\n  'riding skateboards'],\n 'christians': ['muslims', 'gospel', 'impressed', 'gathered outdoors', 'pork'],\n 'jews': [],\n 'buddhists': [],\n 'atheists': [],\n 'old': ['18 years', 'fashioned', '10 year', 'reminisce', '60'],\n 'elderly': ['yellow raincoat',\n  'long-sleeved shirt',\n  'woman resting',\n  'antiques',\n  'cutting board'],\n 'retired': ['good place', 'accessory', '5 years', 'years ago', 'clutching'],\n 'teenage': ['black swim',\n  'gray tank',\n  'baseball diamond',\n  'turtles',\n  'falling asleep'],\n 'young': ['karate uniform',\n  'girl draws',\n  'boy feeds',\n  'boy dances',\n  'sparing'],\n 'senior': ['citizen',\n  'citizens',\n  'sat outside',\n  'playing bingo',\n  'beautiful scenery'],\n 'seniors': ['theft', 'man delivers', 'nearest', 'person watches', 'delivers'],\n 'teenager': ['camouflaged', 'surfed', 'distract', 'extra money', 'large pot'],\n 'teenagers': ['yellow shirts',\n  'red chairs',\n  'plying',\n  'library studying',\n  'insects'],\n 'old men': ['reminisce',\n  'straw hats',\n  'inappropriate',\n  'raincoats',\n  'grumpy'],\n 'old women': ['intense game', 'vases', 'earring', 'carring', 'doorstep'],\n 'black people': ['corvette', 'wedding ceremony', 'rioting', 'felt', 'robbed'],\n 'black male': ['green t-shirt',\n  'notebooks',\n  'backyard pool',\n  'building looking',\n  'unfinished building'],\n 'asian teenagers': ['red chairs',\n  'electronic devices',\n  'carrying flags',\n  'atm',\n  'piercings']}"
     },
     "execution_count": 32,
     "metadata": {},
     "output_type": "execute_result"
    }
   ],
   "source": [
    "hyp_pmi = PMI(hyp_stats)\n",
    "hyp_pmi_stats = hyp_pmi(identity_labels, top_k=5, include_target_bigrams=True)\n",
    "\n",
    "with open('pmi_hypothesis_bigram.json', 'w', encoding='utf-8') as f:\n",
    "    json.dump(hyp_pmi_stats, f, indent=2)\n",
    "\n",
    "hyp_pmi_stats"
   ],
   "metadata": {
    "collapsed": false
   }
  },
  {
   "cell_type": "code",
   "execution_count": 32,
   "outputs": [],
   "source": [],
   "metadata": {
    "collapsed": false
   }
  }
 ],
 "metadata": {
  "kernelspec": {
   "display_name": "Python 3 (ipykernel)",
   "language": "python",
   "name": "python3"
  },
  "language_info": {
   "codemirror_mode": {
    "name": "ipython",
    "version": 3
   },
   "file_extension": ".py",
   "mimetype": "text/x-python",
   "name": "python",
   "nbconvert_exporter": "python",
   "pygments_lexer": "ipython3",
   "version": "3.8.8"
  }
 },
 "nbformat": 4,
 "nbformat_minor": 1
}
